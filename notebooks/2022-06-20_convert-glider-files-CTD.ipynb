{
 "cells": [
  {
   "cell_type": "markdown",
   "id": "e22c3dee",
   "metadata": {},
   "source": [
    "# Convert all files from 2021 glider fieldwork -- ADCP on CTD"
   ]
  },
  {
   "cell_type": "code",
   "execution_count": 1,
   "id": "677d335a",
   "metadata": {},
   "outputs": [],
   "source": [
    "from pathlib import Path\n",
    "import numpy as np\n",
    "import xarray as xr\n",
    "\n",
    "import echopype as ep"
   ]
  },
  {
   "cell_type": "code",
   "execution_count": 2,
   "id": "da93b8e7",
   "metadata": {},
   "outputs": [],
   "source": [
    "data_path = Path(\"/Volumes/MURI_4TB/OER_glider_ADCP/ADCP_on_CTD/\")\n",
    "save_path = Path(\"/Volumes/MURI_4TB/OER_glider_ADCP/ADCP_on_CTD_converted/\")"
   ]
  },
  {
   "cell_type": "code",
   "execution_count": 3,
   "id": "6a180529",
   "metadata": {},
   "outputs": [],
   "source": [
    "if not save_path.exists():\n",
    "    save_path.mkdir(exist_ok=True)"
   ]
  },
  {
   "cell_type": "code",
   "execution_count": 4,
   "id": "09460d8e",
   "metadata": {},
   "outputs": [],
   "source": [
    "files = list(data_path.glob(\"*.ad2cp\"))"
   ]
  },
  {
   "cell_type": "code",
   "execution_count": 5,
   "id": "429051f6",
   "metadata": {},
   "outputs": [
    {
     "data": {
      "text/plain": [
       "[PosixPath('/Volumes/MURI_4TB/OER_glider_ADCP/ADCP_on_CTD/8282021A1.ad2cp'),\n",
       " PosixPath('/Volumes/MURI_4TB/OER_glider_ADCP/ADCP_on_CTD/8282021A1_avgd.ad2cp'),\n",
       " PosixPath('/Volumes/MURI_4TB/OER_glider_ADCP/ADCP_on_CTD/8302021C1.ad2cp'),\n",
       " PosixPath('/Volumes/MURI_4TB/OER_glider_ADCP/ADCP_on_CTD/8302021C1_avgd.ad2cp'),\n",
       " PosixPath('/Volumes/MURI_4TB/OER_glider_ADCP/ADCP_on_CTD/9142021A1.ad2cp'),\n",
       " PosixPath('/Volumes/MURI_4TB/OER_glider_ADCP/ADCP_on_CTD/9142021A1_avgd.ad2cp')]"
      ]
     },
     "execution_count": 5,
     "metadata": {},
     "output_type": "execute_result"
    }
   ],
   "source": [
    "files"
   ]
  },
  {
   "cell_type": "code",
   "execution_count": 6,
   "id": "c2257a54",
   "metadata": {},
   "outputs": [
    {
     "name": "stdout",
     "output_type": "stream",
     "text": [
      "08:45:00  overwriting /Volumes/MURI_4TB/OER_glider_ADCP/ADCP_on_CTD_converted/8282021A1.zarr\n",
      "08:45:23  saving /Volumes/MURI_4TB/OER_glider_ADCP/ADCP_on_CTD_converted/8282021A1_avgd.zarr\n",
      "08:46:21  saving /Volumes/MURI_4TB/OER_glider_ADCP/ADCP_on_CTD_converted/8302021C1.zarr\n",
      "08:47:00  saving /Volumes/MURI_4TB/OER_glider_ADCP/ADCP_on_CTD_converted/8302021C1_avgd.zarr\n",
      "08:48:35  saving /Volumes/MURI_4TB/OER_glider_ADCP/ADCP_on_CTD_converted/9142021A1.zarr\n",
      "08:49:20  saving /Volumes/MURI_4TB/OER_glider_ADCP/ADCP_on_CTD_converted/9142021A1_avgd.zarr\n"
     ]
    }
   ],
   "source": [
    "val_error_file_list = []\n",
    "for ff in files:\n",
    "    try:\n",
    "        ed = ep.open_raw(ff, sonar_model=\"AD2CP\")\n",
    "        ed.to_zarr(save_path, overwrite=True)\n",
    "    except:\n",
    "        val_error_file_list.append(ff)"
   ]
  },
  {
   "cell_type": "code",
   "execution_count": 7,
   "id": "e7e42ded",
   "metadata": {},
   "outputs": [
    {
     "data": {
      "text/plain": [
       "[]"
      ]
     },
     "execution_count": 7,
     "metadata": {},
     "output_type": "execute_result"
    }
   ],
   "source": [
    "val_error_file_list"
   ]
  },
  {
   "cell_type": "code",
   "execution_count": null,
   "id": "b28ba407",
   "metadata": {},
   "outputs": [],
   "source": []
  }
 ],
 "metadata": {
  "kernelspec": {
   "display_name": "Python [conda env:ep-book3]",
   "language": "python",
   "name": "conda-env-ep-book3-py"
  },
  "language_info": {
   "codemirror_mode": {
    "name": "ipython",
    "version": 3
   },
   "file_extension": ".py",
   "mimetype": "text/x-python",
   "name": "python",
   "nbconvert_exporter": "python",
   "pygments_lexer": "ipython3",
   "version": "3.9.12"
  }
 },
 "nbformat": 4,
 "nbformat_minor": 5
}
