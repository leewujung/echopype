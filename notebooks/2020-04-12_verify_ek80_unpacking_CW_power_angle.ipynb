{
 "cells": [
  {
   "cell_type": "markdown",
   "metadata": {},
   "source": [
    "# Verify unpacking CW mode files from EK80"
   ]
  },
  {
   "cell_type": "markdown",
   "metadata": {},
   "source": [
    "This notebook verifies tests in `test_convert/test_convert_ek80()`."
   ]
  },
  {
   "cell_type": "code",
   "execution_count": 1,
   "metadata": {},
   "outputs": [],
   "source": [
    "import os\n",
    "import shutil\n",
    "import numpy as np\n",
    "import xarray as xr\n",
    "import pandas as pd\n",
    "from echopype.convert import Convert\n",
    "from echopype.convert.ek80 import ConvertEK80"
   ]
  },
  {
   "cell_type": "code",
   "execution_count": 2,
   "metadata": {},
   "outputs": [
    {
     "data": {
      "text/plain": [
       "'/Users/wu-jung/code_git/echopype'"
      ]
     },
     "execution_count": 2,
     "metadata": {},
     "output_type": "execute_result"
    }
   ],
   "source": [
    "os.getcwd()"
   ]
  },
  {
   "cell_type": "code",
   "execution_count": 4,
   "metadata": {},
   "outputs": [],
   "source": [
    "ek80_raw_path = './echopype/test_data/ek80/D20190822-T161221.raw'\n",
    "ek80_power_test_path = ['./echopype/test_data/ek80/from_echoview/18kHz.power.csv',\n",
    "                        './echopype/test_data/ek80/from_echoview/38kHz.power.csv',\n",
    "                        './echopype/test_data/ek80/from_echoview/70kHz.power.csv',\n",
    "                        './echopype/test_data/ek80/from_echoview/120kHz.power.csv',\n",
    "                        './echopype/test_data/ek80/from_echoview/200kHz.power.csv']\n",
    "ek80_angle_test_path = './echopype/test_data/ek80/from_echoview/EK80_test_angles.csv'"
   ]
  },
  {
   "cell_type": "code",
   "execution_count": 12,
   "metadata": {},
   "outputs": [
    {
     "name": "stdout",
     "output_type": "stream",
     "text": [
      "12:53:46  converting file: D20190822-T161221.raw\n"
     ]
    }
   ],
   "source": [
    "tmp = ConvertEK80(ek80_raw_path)\n",
    "tmp.raw2nc()"
   ]
  },
  {
   "cell_type": "code",
   "execution_count": 13,
   "metadata": {},
   "outputs": [],
   "source": [
    "ds_beam = xr.open_dataset(tmp.nc_path, group='Beam')"
   ]
  },
  {
   "cell_type": "code",
   "execution_count": 14,
   "metadata": {},
   "outputs": [],
   "source": [
    "df = pd.read_csv(ek80_angle_test_path, compression='gzip')"
   ]
  },
  {
   "cell_type": "code",
   "execution_count": 15,
   "metadata": {},
   "outputs": [
    {
     "data": {
      "text/html": [
       "<div>\n",
       "<style scoped>\n",
       "    .dataframe tbody tr th:only-of-type {\n",
       "        vertical-align: middle;\n",
       "    }\n",
       "\n",
       "    .dataframe tbody tr th {\n",
       "        vertical-align: top;\n",
       "    }\n",
       "\n",
       "    .dataframe thead th {\n",
       "        text-align: right;\n",
       "    }\n",
       "</style>\n",
       "<table border=\"1\" class=\"dataframe\">\n",
       "  <thead>\n",
       "    <tr style=\"text-align: right;\">\n",
       "      <th></th>\n",
       "      <th>frequency</th>\n",
       "      <th>ping_index</th>\n",
       "      <th>range_bin</th>\n",
       "      <th>minor</th>\n",
       "      <th>major</th>\n",
       "    </tr>\n",
       "  </thead>\n",
       "  <tbody>\n",
       "    <tr>\n",
       "      <th>0</th>\n",
       "      <td>18000</td>\n",
       "      <td>1</td>\n",
       "      <td>0</td>\n",
       "      <td>-0.090726</td>\n",
       "      <td>-0.090726</td>\n",
       "    </tr>\n",
       "    <tr>\n",
       "      <th>1</th>\n",
       "      <td>18000</td>\n",
       "      <td>1</td>\n",
       "      <td>1</td>\n",
       "      <td>0.000000</td>\n",
       "      <td>0.000000</td>\n",
       "    </tr>\n",
       "    <tr>\n",
       "      <th>2</th>\n",
       "      <td>18000</td>\n",
       "      <td>1</td>\n",
       "      <td>2</td>\n",
       "      <td>0.000000</td>\n",
       "      <td>0.000000</td>\n",
       "    </tr>\n",
       "    <tr>\n",
       "      <th>3</th>\n",
       "      <td>18000</td>\n",
       "      <td>1</td>\n",
       "      <td>3</td>\n",
       "      <td>0.000000</td>\n",
       "      <td>0.000000</td>\n",
       "    </tr>\n",
       "    <tr>\n",
       "      <th>4</th>\n",
       "      <td>18000</td>\n",
       "      <td>1</td>\n",
       "      <td>4</td>\n",
       "      <td>0.000000</td>\n",
       "      <td>0.000000</td>\n",
       "    </tr>\n",
       "    <tr>\n",
       "      <th>...</th>\n",
       "      <td>...</td>\n",
       "      <td>...</td>\n",
       "      <td>...</td>\n",
       "      <td>...</td>\n",
       "      <td>...</td>\n",
       "    </tr>\n",
       "    <tr>\n",
       "      <th>537385</th>\n",
       "      <td>200000</td>\n",
       "      <td>3</td>\n",
       "      <td>35821</td>\n",
       "      <td>NaN</td>\n",
       "      <td>NaN</td>\n",
       "    </tr>\n",
       "    <tr>\n",
       "      <th>537386</th>\n",
       "      <td>200000</td>\n",
       "      <td>3</td>\n",
       "      <td>35822</td>\n",
       "      <td>NaN</td>\n",
       "      <td>NaN</td>\n",
       "    </tr>\n",
       "    <tr>\n",
       "      <th>537387</th>\n",
       "      <td>200000</td>\n",
       "      <td>3</td>\n",
       "      <td>35823</td>\n",
       "      <td>NaN</td>\n",
       "      <td>NaN</td>\n",
       "    </tr>\n",
       "    <tr>\n",
       "      <th>537388</th>\n",
       "      <td>200000</td>\n",
       "      <td>3</td>\n",
       "      <td>35824</td>\n",
       "      <td>NaN</td>\n",
       "      <td>NaN</td>\n",
       "    </tr>\n",
       "    <tr>\n",
       "      <th>537389</th>\n",
       "      <td>200000</td>\n",
       "      <td>3</td>\n",
       "      <td>35825</td>\n",
       "      <td>NaN</td>\n",
       "      <td>NaN</td>\n",
       "    </tr>\n",
       "  </tbody>\n",
       "</table>\n",
       "<p>537390 rows × 5 columns</p>\n",
       "</div>"
      ],
      "text/plain": [
       "        frequency  ping_index  range_bin     minor     major\n",
       "0           18000           1          0 -0.090726 -0.090726\n",
       "1           18000           1          1  0.000000  0.000000\n",
       "2           18000           1          2  0.000000  0.000000\n",
       "3           18000           1          3  0.000000  0.000000\n",
       "4           18000           1          4  0.000000  0.000000\n",
       "...           ...         ...        ...       ...       ...\n",
       "537385     200000           3      35821       NaN       NaN\n",
       "537386     200000           3      35822       NaN       NaN\n",
       "537387     200000           3      35823       NaN       NaN\n",
       "537388     200000           3      35824       NaN       NaN\n",
       "537389     200000           3      35825       NaN       NaN\n",
       "\n",
       "[537390 rows x 5 columns]"
      ]
     },
     "execution_count": 15,
     "metadata": {},
     "output_type": "execute_result"
    }
   ],
   "source": [
    "df"
   ]
  },
  {
   "cell_type": "code",
   "execution_count": 16,
   "metadata": {},
   "outputs": [],
   "source": [
    "major = (ds_beam['angle_athwartship'] * 1.40625 / ds_beam['angle_sensitivity_athwartship'] -\n",
    "         ds_beam['angle_offset_athwartship'])[:, 1:4, :]\n",
    "minor = (ds_beam['angle_alongship'] * 1.40625 / ds_beam['angle_sensitivity_alongship'] -\n",
    "         ds_beam['angle_offset_alongship'])[:, 1:4, :]"
   ]
  },
  {
   "cell_type": "code",
   "execution_count": 17,
   "metadata": {},
   "outputs": [
    {
     "name": "stdout",
     "output_type": "stream",
     "text": [
      "18000\n",
      "38000\n",
      "70000\n",
      "120000\n",
      "200000\n"
     ]
    }
   ],
   "source": [
    "for f in np.unique(df['frequency']):\n",
    "    print(f)"
   ]
  },
  {
   "cell_type": "code",
   "execution_count": 29,
   "metadata": {},
   "outputs": [],
   "source": [
    "f=18000"
   ]
  },
  {
   "cell_type": "code",
   "execution_count": 30,
   "metadata": {},
   "outputs": [],
   "source": [
    "major_test = []\n",
    "minor_test = []\n",
    "df_freq = df[df['frequency'] == f]\n",
    "for i in np.unique(df_freq['ping_index']):\n",
    "    val_maj = df_freq[df_freq['ping_index'] == i]['major']\n",
    "    val_min = df_freq[df_freq['ping_index'] == i]['minor']\n",
    "    major_test.append(xr.DataArray(val_maj, coords=[('range_bin', np.arange(val_maj.size))]))\n",
    "    minor_test.append(xr.DataArray(val_min, coords=[('range_bin', np.arange(val_min.size))]))"
   ]
  },
  {
   "cell_type": "code",
   "execution_count": 31,
   "metadata": {},
   "outputs": [
    {
     "data": {
      "text/html": [
       "<pre>&lt;xarray.DataArray &#x27;major&#x27; (range_bin: 35826)&gt;\n",
       "array([-0.0907258,  0.       ,  0.       , ...,  2.08669  ,  2.90323  ,\n",
       "        3.81048  ])\n",
       "Coordinates:\n",
       "  * range_bin  (range_bin) int64 0 1 2 3 4 5 ... 35821 35822 35823 35824 35825</pre>"
      ],
      "text/plain": [
       "<xarray.DataArray 'major' (range_bin: 35826)>\n",
       "array([-0.0907258,  0.       ,  0.       , ...,  2.08669  ,  2.90323  ,\n",
       "        3.81048  ])\n",
       "Coordinates:\n",
       "  * range_bin  (range_bin) int64 0 1 2 3 4 5 ... 35821 35822 35823 35824 35825"
      ]
     },
     "execution_count": 31,
     "metadata": {},
     "output_type": "execute_result"
    }
   ],
   "source": [
    "major_test[0]"
   ]
  },
  {
   "cell_type": "code",
   "execution_count": 44,
   "metadata": {},
   "outputs": [
    {
     "data": {
      "text/html": [
       "<pre>&lt;xarray.DataArray (range_bin: 35826)&gt;\n",
       "array([-0.09072581,  0.        ,  0.        , ...,  2.0866935 ,\n",
       "        2.903226  ,  3.810484  ], dtype=float32)\n",
       "Coordinates:\n",
       "    frequency  float32 18000.0\n",
       "    ping_time  float64 3.775e+09\n",
       "  * range_bin  (range_bin) int64 0 1 2 3 4 5 ... 35821 35822 35823 35824 35825</pre>"
      ],
      "text/plain": [
       "<xarray.DataArray (range_bin: 35826)>\n",
       "array([-0.09072581,  0.        ,  0.        , ...,  2.0866935 ,\n",
       "        2.903226  ,  3.810484  ], dtype=float32)\n",
       "Coordinates:\n",
       "    frequency  float32 18000.0\n",
       "    ping_time  float64 3.775e+09\n",
       "  * range_bin  (range_bin) int64 0 1 2 3 4 5 ... 35821 35822 35823 35824 35825"
      ]
     },
     "execution_count": 44,
     "metadata": {},
     "output_type": "execute_result"
    }
   ],
   "source": [
    "major.sel(frequency=f).isel(ping_time=0)"
   ]
  },
  {
   "cell_type": "code",
   "execution_count": 43,
   "metadata": {},
   "outputs": [
    {
     "data": {
      "text/html": [
       "<pre>&lt;xarray.DataArray &#x27;major&#x27; (range_bin: 35826)&gt;\n",
       "array([-0.0907258,  0.       ,  0.       , ...,  2.08669  ,  2.90323  ,\n",
       "        3.81048  ])\n",
       "Coordinates:\n",
       "  * range_bin  (range_bin) int64 0 1 2 3 4 5 ... 35821 35822 35823 35824 35825</pre>"
      ],
      "text/plain": [
       "<xarray.DataArray 'major' (range_bin: 35826)>\n",
       "array([-0.0907258,  0.       ,  0.       , ...,  2.08669  ,  2.90323  ,\n",
       "        3.81048  ])\n",
       "Coordinates:\n",
       "  * range_bin  (range_bin) int64 0 1 2 3 4 5 ... 35821 35822 35823 35824 35825"
      ]
     },
     "execution_count": 43,
     "metadata": {},
     "output_type": "execute_result"
    }
   ],
   "source": [
    "major_test[0]"
   ]
  },
  {
   "cell_type": "code",
   "execution_count": 46,
   "metadata": {},
   "outputs": [
    {
     "data": {
      "text/plain": [
       "[<matplotlib.lines.Line2D at 0x126512280>]"
      ]
     },
     "execution_count": 46,
     "metadata": {},
     "output_type": "execute_result"
    },
    {
     "data": {
      "image/png": "[encoded data removed]",
      "text/plain": [
       "<Figure size 432x288 with 1 Axes>"
      ]
     },
     "metadata": {
      "needs_background": "light"
     },
     "output_type": "display_data"
    }
   ],
   "source": [
    "major.sel(frequency=f).isel(ping_time=0,range_bin=slice(0,1000)).plot(x='range_bin')\n",
    "major_test[0].isel(range_bin=slice(0,1000)).plot(x='range_bin')"
   ]
  },
  {
   "cell_type": "code",
   "execution_count": 47,
   "metadata": {},
   "outputs": [
    {
     "data": {
      "text/plain": [
       "[<matplotlib.lines.Line2D at 0x1265f0ca0>]"
      ]
     },
     "execution_count": 47,
     "metadata": {},
     "output_type": "execute_result"
    },
    {
     "data": {
      "image/png": "[encoded data removed]",
      "text/plain": [
       "<Figure size 432x288 with 1 Axes>"
      ]
     },
     "metadata": {
      "needs_background": "light"
     },
     "output_type": "display_data"
    }
   ],
   "source": [
    "minor.sel(frequency=f).isel(ping_time=0,range_bin=slice(0,1000)).plot(x='range_bin')\n",
    "minor_test[0].isel(range_bin=slice(0,1000)).plot(x='range_bin')"
   ]
  },
  {
   "cell_type": "code",
   "execution_count": 48,
   "metadata": {},
   "outputs": [],
   "source": [
    "POWER_FACTOR = 0.011758984205624266  # 10*log10(2)/256\n",
    "power = ds_beam.backscatter_r * POWER_FACTOR\n",
    "# single point error in original raw data. Read as -2000 by echopype and -999 by Echoview\n",
    "power[3][4][13174] = -999\n",
    "for i, f in enumerate(ek80_power_test_path):\n",
    "    test_power = pd.read_csv(f, delimiter=';').iloc[:, 13:].values\n",
    "    assert np.allclose(test_power, power[i].dropna('range_bin'))\n"
   ]
  },
  {
   "cell_type": "code",
   "execution_count": 51,
   "metadata": {},
   "outputs": [
    {
     "data": {
      "text/plain": [
       "'./echopype/test_data/ek80/from_echoview/200kHz.power.csv'"
      ]
     },
     "execution_count": 51,
     "metadata": {},
     "output_type": "execute_result"
    }
   ],
   "source": [
    "f"
   ]
  },
  {
   "cell_type": "code",
   "execution_count": 54,
   "metadata": {},
   "outputs": [
    {
     "data": {
      "text/html": [
       "<div>\n",
       "<style scoped>\n",
       "    .dataframe tbody tr th:only-of-type {\n",
       "        vertical-align: middle;\n",
       "    }\n",
       "\n",
       "    .dataframe tbody tr th {\n",
       "        vertical-align: top;\n",
       "    }\n",
       "\n",
       "    .dataframe thead th {\n",
       "        text-align: right;\n",
       "    }\n",
       "</style>\n",
       "<table border=\"1\" class=\"dataframe\">\n",
       "  <thead>\n",
       "    <tr style=\"text-align: right;\">\n",
       "      <th></th>\n",
       "      <th>0</th>\n",
       "      <th>1</th>\n",
       "      <th>2</th>\n",
       "      <th>3</th>\n",
       "      <th>4</th>\n",
       "      <th>5</th>\n",
       "      <th>6</th>\n",
       "    </tr>\n",
       "  </thead>\n",
       "  <tbody>\n",
       "    <tr>\n",
       "      <th>FIELD14</th>\n",
       "      <td>5.950046</td>\n",
       "      <td>6.032359</td>\n",
       "      <td>5.867733</td>\n",
       "      <td>5.867733</td>\n",
       "      <td>6.032359</td>\n",
       "      <td>6.044118</td>\n",
       "      <td>6.044118</td>\n",
       "    </tr>\n",
       "    <tr>\n",
       "      <th>FIELD15</th>\n",
       "      <td>8.748684</td>\n",
       "      <td>8.854515</td>\n",
       "      <td>8.701648</td>\n",
       "      <td>8.701648</td>\n",
       "      <td>8.854515</td>\n",
       "      <td>8.854515</td>\n",
       "      <td>8.842756</td>\n",
       "    </tr>\n",
       "    <tr>\n",
       "      <th>FIELD16</th>\n",
       "      <td>10.630122</td>\n",
       "      <td>10.759471</td>\n",
       "      <td>10.618363</td>\n",
       "      <td>10.606604</td>\n",
       "      <td>10.747712</td>\n",
       "      <td>10.747712</td>\n",
       "      <td>10.747712</td>\n",
       "    </tr>\n",
       "    <tr>\n",
       "      <th>FIELD17</th>\n",
       "      <td>11.876574</td>\n",
       "      <td>11.982405</td>\n",
       "      <td>11.841297</td>\n",
       "      <td>11.841297</td>\n",
       "      <td>11.982405</td>\n",
       "      <td>11.994164</td>\n",
       "      <td>11.994164</td>\n",
       "    </tr>\n",
       "    <tr>\n",
       "      <th>FIELD18</th>\n",
       "      <td>12.535077</td>\n",
       "      <td>12.664426</td>\n",
       "      <td>12.535077</td>\n",
       "      <td>12.523318</td>\n",
       "      <td>12.664426</td>\n",
       "      <td>12.664426</td>\n",
       "      <td>12.676185</td>\n",
       "    </tr>\n",
       "    <tr>\n",
       "      <th>...</th>\n",
       "      <td>...</td>\n",
       "      <td>...</td>\n",
       "      <td>...</td>\n",
       "      <td>...</td>\n",
       "      <td>...</td>\n",
       "      <td>...</td>\n",
       "      <td>...</td>\n",
       "    </tr>\n",
       "    <tr>\n",
       "      <th>FIELD31357</th>\n",
       "      <td>-152.913831</td>\n",
       "      <td>-152.114220</td>\n",
       "      <td>-145.282250</td>\n",
       "      <td>-143.130356</td>\n",
       "      <td>-149.832977</td>\n",
       "      <td>-150.115192</td>\n",
       "      <td>-147.234241</td>\n",
       "    </tr>\n",
       "    <tr>\n",
       "      <th>FIELD31358</th>\n",
       "      <td>-152.913831</td>\n",
       "      <td>-152.960867</td>\n",
       "      <td>-147.316554</td>\n",
       "      <td>-143.247946</td>\n",
       "      <td>-153.231323</td>\n",
       "      <td>-147.422385</td>\n",
       "      <td>-149.245028</td>\n",
       "    </tr>\n",
       "    <tr>\n",
       "      <th>FIELD31359</th>\n",
       "      <td>-151.773209</td>\n",
       "      <td>-152.502266</td>\n",
       "      <td>-150.456203</td>\n",
       "      <td>-143.588956</td>\n",
       "      <td>-159.040261</td>\n",
       "      <td>-145.576224</td>\n",
       "      <td>-149.927049</td>\n",
       "    </tr>\n",
       "    <tr>\n",
       "      <th>FIELD31360</th>\n",
       "      <td>-151.067670</td>\n",
       "      <td>-152.372917</td>\n",
       "      <td>-155.783023</td>\n",
       "      <td>-144.235700</td>\n",
       "      <td>-158.475830</td>\n",
       "      <td>-144.647265</td>\n",
       "      <td>-150.173987</td>\n",
       "    </tr>\n",
       "    <tr>\n",
       "      <th>FIELD31361</th>\n",
       "      <td>-151.643860</td>\n",
       "      <td>-153.372431</td>\n",
       "      <td>-168.553280</td>\n",
       "      <td>-145.411599</td>\n",
       "      <td>-152.666892</td>\n",
       "      <td>-144.564952</td>\n",
       "      <td>-150.373890</td>\n",
       "    </tr>\n",
       "  </tbody>\n",
       "</table>\n",
       "<p>31348 rows × 7 columns</p>\n",
       "</div>"
      ],
      "text/plain": [
       "                     0           1           2           3           4  \\\n",
       "FIELD14       5.950046    6.032359    5.867733    5.867733    6.032359   \n",
       "FIELD15       8.748684    8.854515    8.701648    8.701648    8.854515   \n",
       "FIELD16      10.630122   10.759471   10.618363   10.606604   10.747712   \n",
       "FIELD17      11.876574   11.982405   11.841297   11.841297   11.982405   \n",
       "FIELD18      12.535077   12.664426   12.535077   12.523318   12.664426   \n",
       "...                ...         ...         ...         ...         ...   \n",
       "FIELD31357 -152.913831 -152.114220 -145.282250 -143.130356 -149.832977   \n",
       "FIELD31358 -152.913831 -152.960867 -147.316554 -143.247946 -153.231323   \n",
       "FIELD31359 -151.773209 -152.502266 -150.456203 -143.588956 -159.040261   \n",
       "FIELD31360 -151.067670 -152.372917 -155.783023 -144.235700 -158.475830   \n",
       "FIELD31361 -151.643860 -153.372431 -168.553280 -145.411599 -152.666892   \n",
       "\n",
       "                     5           6  \n",
       "FIELD14       6.044118    6.044118  \n",
       "FIELD15       8.854515    8.842756  \n",
       "FIELD16      10.747712   10.747712  \n",
       "FIELD17      11.994164   11.994164  \n",
       "FIELD18      12.664426   12.676185  \n",
       "...                ...         ...  \n",
       "FIELD31357 -150.115192 -147.234241  \n",
       "FIELD31358 -147.422385 -149.245028  \n",
       "FIELD31359 -145.576224 -149.927049  \n",
       "FIELD31360 -144.647265 -150.173987  \n",
       "FIELD31361 -144.564952 -150.373890  \n",
       "\n",
       "[31348 rows x 7 columns]"
      ]
     },
     "execution_count": 54,
     "metadata": {},
     "output_type": "execute_result"
    }
   ],
   "source": [
    "test_power = pd.read_csv(f, delimiter=';').iloc[:, 13:].transpose()\n",
    "test_power"
   ]
  },
  {
   "cell_type": "code",
   "execution_count": 69,
   "metadata": {},
   "outputs": [
    {
     "data": {
      "text/plain": [
       "[<matplotlib.lines.Line2D at 0x1329894c0>]"
      ]
     },
     "execution_count": 69,
     "metadata": {},
     "output_type": "execute_result"
    },
    {
     "data": {
      "image/png": "[encoded data removed]",
      "text/plain": [
       "<Figure size 432x288 with 1 Axes>"
      ]
     },
     "metadata": {
      "needs_background": "light"
     },
     "output_type": "display_data"
    }
   ],
   "source": [
    "test_power[0].iloc[:1000].plot()\n",
    "power.sel(frequency=200000).isel(ping_time=0,range_bin=slice(0,1000)).plot()"
   ]
  },
  {
   "cell_type": "code",
   "execution_count": null,
   "metadata": {},
   "outputs": [],
   "source": []
  },
  {
   "cell_type": "code",
   "execution_count": null,
   "metadata": {},
   "outputs": [],
   "source": []
  }
 ],
 "metadata": {
  "kernelspec": {
   "display_name": "echopype",
   "language": "python",
   "name": "echopype"
  },
  "language_info": {
   "codemirror_mode": {
    "name": "ipython",
    "version": 3
   },
   "file_extension": ".py",
   "mimetype": "text/x-python",
   "name": "python",
   "nbconvert_exporter": "python",
   "pygments_lexer": "ipython3",
   "version": "3.8.2"
  }
 },
 "nbformat": 4,
 "nbformat_minor": 4
}
